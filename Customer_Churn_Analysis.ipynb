{
 "cells": [
  {
   "cell_type": "markdown",
   "id": "71712c86",
   "metadata": {},
   "source": [
    "# Customer Churn Analysis\n",
    "\n",
    "This notebook performs basic churn prediction using logistic regression on the Telco customer churn dataset.\n",
    "\n",
    "Steps:\n",
    "- Load and preview data\n",
    "- Data preprocessing\n",
    "- Train/test split\n",
    "- Model training\n",
    "- Evaluation\n",
    "- Visualization"
   ]
  },
  {
   "cell_type": "code",
   "execution_count": null,
   "id": "2d5817b3",
   "metadata": {},
   "outputs": [],
   "source": [
    "import pandas as pd\n",
    "import matplotlib.pyplot as plt\n",
    "import seaborn as sns\n",
    "from sklearn.linear_model import LogisticRegression\n",
    "from sklearn.model_selection import train_test_split\n",
    "from sklearn.metrics import classification_report"
   ]
  },
  {
   "cell_type": "markdown",
   "id": "9a1dfcc1",
   "metadata": {},
   "source": [
    "## Load Dataset"
   ]
  },
  {
   "cell_type": "code",
   "execution_count": null,
   "id": "00b5cb0e",
   "metadata": {},
   "outputs": [],
   "source": [
    "# Load dataset\n",
    "df = pd.read_csv(\"E:/PythonProjects/PA-Projects/Customer_Churn_Analysis/data/WA_Fn-UseC_-Telco-Customer-Churn.csv\")\n",
    "\n",
    "# Preview data\n",
    "df.head()"
   ]
  },
  {
   "cell_type": "markdown",
   "id": "d49008f9",
   "metadata": {},
   "source": [
    "## Check churn distribution"
   ]
  },
  {
   "cell_type": "code",
   "execution_count": null,
   "id": "1534752c",
   "metadata": {},
   "outputs": [],
   "source": [
    "df['Churn'].value_counts()"
   ]
  },
  {
   "cell_type": "markdown",
   "id": "089335cb",
   "metadata": {},
   "source": [
    "## Convert churn to numeric"
   ]
  },
  {
   "cell_type": "code",
   "execution_count": null,
   "id": "004f2d8a",
   "metadata": {},
   "outputs": [],
   "source": [
    "df['Churn'] = df['Churn'].map({'Yes': 1, 'No': 0})\n",
    "df[['Churn']].head()"
   ]
  },
  {
   "cell_type": "markdown",
   "id": "9a3314bb",
   "metadata": {},
   "source": [
    "## Feature selection"
   ]
  },
  {
   "cell_type": "code",
   "execution_count": null,
   "id": "b17b934f",
   "metadata": {},
   "outputs": [],
   "source": [
    "X = df[['tenure', 'MonthlyCharges']]\n",
    "y = df['Churn']"
   ]
  },
  {
   "cell_type": "markdown",
   "id": "553974f9",
   "metadata": {},
   "source": [
    "## Train/test split"
   ]
  },
  {
   "cell_type": "code",
   "execution_count": null,
   "id": "e428a714",
   "metadata": {},
   "outputs": [],
   "source": [
    "X_train, X_test, y_train, y_test = train_test_split(X, y, test_size=0.3, random_state=42)"
   ]
  },
  {
   "cell_type": "markdown",
   "id": "1e47d594",
   "metadata": {},
   "source": [
    "## Train logistic regression model"
   ]
  },
  {
   "cell_type": "code",
   "execution_count": null,
   "id": "87503527",
   "metadata": {},
   "outputs": [],
   "source": [
    "model = LogisticRegression()\n",
    "model.fit(X_train, y_train)"
   ]
  },
  {
   "cell_type": "markdown",
   "id": "37e61b30",
   "metadata": {},
   "source": [
    "## Predict and evaluate"
   ]
  },
  {
   "cell_type": "code",
   "execution_count": null,
   "id": "9d8aecc0",
   "metadata": {},
   "outputs": [],
   "source": [
    "y_pred = model.predict(X_test)\n",
    "print(classification_report(y_test, y_pred))"
   ]
  },
  {
   "cell_type": "markdown",
   "id": "fb5b9f96",
   "metadata": {},
   "source": [
    "## Visualize churn vs tenure"
   ]
  },
  {
   "cell_type": "code",
   "execution_count": null,
   "id": "2ff6d6e5",
   "metadata": {},
   "outputs": [],
   "source": [
    "sns.boxplot(data=df, x='Churn', y='tenure')\n",
    "plt.title('Tenure vs Churn')\n",
    "plt.savefig('results/tenure_vs_churn.png', dpi=300)\n",
    "plt.show()"
   ]
  }
 ],
 "metadata": {
  "kernelspec": {
   "display_name": "Python 3 (ipykernel)",
   "language": "python",
   "name": "python3"
  },
  "language_info": {
   "codemirror_mode": {
    "name": "ipython",
    "version": 3
   },
   "file_extension": ".py",
   "mimetype": "text/x-python",
   "name": "python",
   "nbconvert_exporter": "python",
   "pygments_lexer": "ipython3",
   "version": "3.13.5"
  }
 },
 "nbformat": 4,
 "nbformat_minor": 5
}
